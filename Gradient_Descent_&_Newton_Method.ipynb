{
 "cells": [
  {
   "cell_type": "markdown",
   "metadata": {},
   "source": [
    "<h5>Ali Morajjabi - 610300104</h5>\n",
    "\n",
    "<hr>\n",
    "\n",
    "<h3 style=\"color:#07ff00\">Gradient Method</h3>"
   ]
  },
  {
   "cell_type": "code",
   "execution_count": 164,
   "metadata": {},
   "outputs": [],
   "source": [
    "import numpy as np\n",
    "import matplotlib.pyplot as plt"
   ]
  },
  {
   "cell_type": "code",
   "execution_count": 24,
   "metadata": {},
   "outputs": [],
   "source": [
    "def grad_calculator(coeff, x):\n",
    "    return np.array((2*coeff[0]*x[0], 2*coeff[1]*x[1]))"
   ]
  },
  {
   "cell_type": "code",
   "execution_count": 29,
   "metadata": {},
   "outputs": [],
   "source": [
    "# a*x**2 + b*y**2\n",
    "def f(coeff, x):\n",
    "    return coeff[0]*x[0]**2 + coeff[1]*x[1]**2"
   ]
  },
  {
   "cell_type": "markdown",
   "metadata": {},
   "source": [
    "This function implements gradient descent with backtracking line search to minimize function f\n",
    "\n",
    "<strong>coeffs:</strong> Coefficients of the function 𝑓\n",
    "<br>\n",
    "<strong>x_0: </strong>Initial guess for the parameters.\n",
    "<br>\n",
    "<strong>s:</strong> Initial step size.\n",
    "<br>\n",
    "<strong>beta:</strong> Step size reduction factor.\n",
    "<br>\n",
    "<strong>alpha:</strong> Armijo rule parameter.\n",
    "<br>\n",
    "<strong>tolerance:</strong> Gradient norm threshold for convergence.\n",
    "<br>\n",
    "\n",
    "<hr>\n",
    "\n",
    "<h5 style=\"color:#00ffc0\">Algorithm:</h5>\n",
    "<p>\n",
    "<strong>Initialization</strong> Set iteration counter iter to 0.\n",
    "<br><br>\n",
    "<strong>Convergence Check:</strong> Continue if the gradient norm is above the tolerance.\n",
    "<br><br>\n",
    "<strong>Backtracking Line Search:</strong>\n",
    "<br><br>\n",
    "    +Initialize i_k to 0.\n",
    "<br>\n",
    "    +2.Compute the gradient at the current 𝑥0\n",
    "​<br>\n",
    "    +3.Update 𝑥0 using decreasing step sizes until the Armijo condition is satisfied.\n",
    "<br><br>\n",
    "<strong>Update:</strong> Set 𝑥0 to the new point 𝑥1\n",
    "​<br><br>\n",
    "<strong>Iteration:</strong> Increment the iteration counter.\n",
    "<br>\n",
    "The function returns the optimized parameters and the number of iterations taken to converge.\n",
    "</p>"
   ]
  },
  {
   "cell_type": "code",
   "execution_count": 152,
   "metadata": {},
   "outputs": [],
   "source": [
    "def grad_BT(coeffs, x_0, s, beta, alpha, tolerance):\n",
    "    iter = 0\n",
    "    while (np.linalg.norm(grad_calculator(coeffs, x_0)) >= tolerance):\n",
    "        \n",
    "        i_k = 0\n",
    "        while (True):\n",
    "            grad = grad_calculator(coeffs, x_0)\n",
    "            x_1 = x_0 - (s* beta**i_k) * grad\n",
    "            if (f(coeffs, x_0) - f(coeffs, x_1) >= (alpha*s*(beta**i_k))*(np.linalg.norm(grad)**2)):\n",
    "                break\n",
    "            i_k += 1\n",
    "        \n",
    "        x_0 = x_1\n",
    "\n",
    "        # print(f\"x{iter+1}: \", x_0)\n",
    "\n",
    "        iter += 1\n",
    "\n",
    "    return (np.array(x_0), iter)"
   ]
  },
  {
   "cell_type": "markdown",
   "metadata": {},
   "source": [
    "1. **Step Size (\\( S \\))**:\n",
    "   - **Role**: It represents the initial step size for the update in the optimization algorithm.\n",
    "   - **Effect of Increasing**: A larger initial step size may potentially lead to faster convergence if it is not too large, but it also increases the risk of overshooting the minimum, resulting in the need for more backtracking iterations.\n",
    "   - **Effect of Decreasing**: A smaller initial step size may lead to more conservative updates, which can increase the number of iterations needed to reach an optimal solution but may reduce the number of backtracking steps.\n",
    "\n",
    "2. **Reduction Factor (\\( BETA \\))**:\n",
    "   - **Role**: This is the factor by which the step size is multiplied in each iteration of the backtracking process (typically \\( 0 < BETA < 1 \\)).\n",
    "   - **Effect of Increasing**: If \\( BETA \\) is closer to 1, the reduction in step size is less aggressive, which can lead to fewer backtracking iterations but might require a more precise initial step size.\n",
    "   - **Effect of Decreasing**: A smaller \\( BETA \\) (closer to 0) results in a more aggressive reduction of the step size, potentially leading to more iterations of backtracking but ensuring a more cautious approach to finding a suitable step size.\n",
    "\n",
    "3. **Condition Parameter (\\( ALPHA \\))**:\n",
    "   - **Role**: This parameter (usually \\( 0 < ALPHA < 0.5 \\)) controls the strictness of the Armijo condition (sufficient decrease condition). It dictates the required decrease in the objective function to accept the current step size.\n",
    "   - **Effect of Increasing**: A larger \\( ALPHA \\) value makes the sufficient decrease condition stricter, which can lead to more backtracking iterations as it requires a more significant decrease in the objective function.\n",
    "   - **Effect of Decreasing**: A smaller \\( ALPHA \\) makes the condition less strict, which may reduce the number of backtracking steps but can increase the risk of accepting step sizes that do not sufficiently decrease the objective function, potentially leading to slower overall convergence."
   ]
  },
  {
   "cell_type": "code",
   "execution_count": 201,
   "metadata": {},
   "outputs": [],
   "source": [
    "COEFFS = (10, 0.1)\n",
    "X_0 = (3, 5)\n",
    "S = 2\n",
    "ALPHA = 0.25\n",
    "BETA = 0.4\n",
    "TOLERANCE = 0.00001"
   ]
  },
  {
   "cell_type": "code",
   "execution_count": 202,
   "metadata": {},
   "outputs": [
    {
     "name": "stdout",
     "output_type": "stream",
     "text": [
      "[4.99467657e-08 4.65858781e-05]\n",
      "number of iterations: 58\n"
     ]
    }
   ],
   "source": [
    "ans, iter = grad_BT(COEFFS, X_0, S, BETA, ALPHA, TOLERANCE)\n",
    "print(ans, f\"number of iterations: {iter}\", sep=\"\\n\")"
   ]
  },
  {
   "cell_type": "code",
   "execution_count": 168,
   "metadata": {},
   "outputs": [],
   "source": [
    "the_range = np.arange(0.001, 1.001, 0.001)\n",
    "l = list()\n",
    "for y_co in the_range:\n",
    "    l.append(grad_BT((1, y_co), (1, 2), S, BETA, ALPHA, TOLERANCE)[1])"
   ]
  },
  {
   "cell_type": "code",
   "execution_count": 210,
   "metadata": {},
   "outputs": [
    {
     "data": {
      "image/png": "[encoded data removed]",
      "text/plain": [
       "<Figure size 640x480 with 1 Axes>"
      ]
     },
     "metadata": {},
     "output_type": "display_data"
    }
   ],
   "source": [
    "plt.plot(the_range, l)\n",
    "plt.title(\"Gradient Descent BT\")\n",
    "plt.xlabel(\"coefficient of y\")\n",
    "plt.ylabel(\"number of iterations\")\n",
    "plt.show()"
   ]
  },
  {
   "cell_type": "markdown",
   "metadata": {},
   "source": [
    "#### Effect of coefficient of y on Iteration Count\n",
    "\n",
    "As it increases from 0.001 to 1, the following effects are observed:\n",
    "\n",
    "- **Small**: The optimization process is dominated by slow convergence in the \\( y \\)-direction, resulting in a high number of iterations.\n",
    "- **Moderate**: The curvature balance between the \\( x \\) and \\( y \\)-directions improves, leading to more efficient optimization and fewer iterations.\n",
    "- **Large**: The curvature in both directions is well-balanced, further reducing the number of iterations required."
   ]
  },
  {
   "cell_type": "markdown",
   "metadata": {},
   "source": [
    "<hr>\n",
    "\n",
    "<h3 style=\"color:#07ff00\">Newton's Method</h3>"
   ]
  },
  {
   "cell_type": "code",
   "execution_count": 64,
   "metadata": {},
   "outputs": [],
   "source": [
    "def hessian_calculator(coeffs):\n",
    "    hess = np.zeros((2, 2))\n",
    "    hess[0][0] = 2*coeffs[0]\n",
    "    hess[1][1] = 2*coeffs[1]\n",
    "    return hess"
   ]
  },
  {
   "cell_type": "markdown",
   "metadata": {},
   "source": [
    "#### Parameters\n",
    "\n",
    "- `coeffs`: Coefficients of the function \\( f \\).\n",
    "- `x_0`: Initial guess for the parameters.\n",
    "- `tolerance`: Convergence criterion based on the norm of the gradient.\n",
    "\n",
    "#### Algorithm:\n",
    "\n",
    "1. **Initialization**: Set iteration counter `iter` to 0. Compute the inverse of the Hessian matrix at the start, assuming it is constant.\n",
    "2. **Convergence Check**: Continue iterating while the gradient norm is above the tolerance.\n",
    "3. **Gradient Calculation**: Compute the gradient at the current \\( x_0 \\).\n",
    "4. **Update Step**: Update \\( x_0 \\) using the pure Newton step: \\( x_1 = x_0 - H^{-1} grad(f) \\).\n",
    "5. **Iteration**: Set \\( x_0 \\) to the new point \\( x_1 \\) and increment the iteration counter.\n",
    "\n",
    "The function returns the optimized parameters and the number of iterations taken to converge."
   ]
  },
  {
   "cell_type": "code",
   "execution_count": 160,
   "metadata": {},
   "outputs": [],
   "source": [
    "def pure_newton(coeffs, x_0, tolerance):\n",
    "    \n",
    "    iter = 0\n",
    "    hess_inv = np.linalg.inv(hessian_calculator(coeffs))\n",
    "    while (np.linalg.norm(grad_calculator(coeffs, x_0)) >= tolerance):\n",
    "        grad = grad_calculator(coeffs, x_0)\n",
    "        x_1 = x_0 - hess_inv @ grad\n",
    "        x_0 = x_1\n",
    "        iter += 1\n",
    "\n",
    "    return (np.array(x_0), iter)"
   ]
  },
  {
   "cell_type": "code",
   "execution_count": 143,
   "metadata": {},
   "outputs": [],
   "source": [
    "COEFFS = (1, 2)\n",
    "X_0 = (100, 0.01)\n",
    "TOLERANCE = 0.00001"
   ]
  },
  {
   "cell_type": "code",
   "execution_count": 206,
   "metadata": {},
   "outputs": [],
   "source": [
    "the_range = np.arange(0.001, 1.001, 0.001)\n",
    "p = list()\n",
    "for y_co in the_range:\n",
    "    p.append(pure_newton((1, y_co), X_0, TOLERANCE)[1])"
   ]
  },
  {
   "cell_type": "code",
   "execution_count": 209,
   "metadata": {},
   "outputs": [
    {
     "data": {
      "image/png": "[encoded data removed]",
      "text/plain": [
       "<Figure size 640x480 with 1 Axes>"
      ]
     },
     "metadata": {},
     "output_type": "display_data"
    }
   ],
   "source": [
    "plt.plot(the_range, p)\n",
    "plt.title(\"Pure Newton\")\n",
    "plt.xlabel(\"coefficient of y\")\n",
    "plt.ylabel(\"number of iterations\")\n",
    "plt.show()"
   ]
  },
  {
   "cell_type": "markdown",
   "metadata": {},
   "source": [
    "The stability in the number of iterations arises because the pure Newton method is specifically well-suited for quadratic functions. It uses the exact curvature information (via the Hessian) to find the minimum in a single step. The coefficient of y affects the scale of the 𝑦-direction in the function but does not affect the efficiency of the method due to the precise correction applied by the inverse Hessian."
   ]
  }
 ],
 "metadata": {
  "kernelspec": {
   "display_name": "Python 3",
   "language": "python",
   "name": "python3"
  },
  "language_info": {
   "codemirror_mode": {
    "name": "ipython",
    "version": 3
   },
   "file_extension": ".py",
   "mimetype": "text/x-python",
   "name": "python",
   "nbconvert_exporter": "python",
   "pygments_lexer": "ipython3",
   "version": "3.12.0"
  }
 },
 "nbformat": 4,
 "nbformat_minor": 2
}
