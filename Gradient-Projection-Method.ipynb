{
 "cells": [
  {
   "cell_type": "markdown",
   "metadata": {},
   "source": [
    "<h3 style=\"color:skyblue\">Ali Morajjabi - 610300104</h3>\n",
    "<hr><hr>\n",
    "\n",
    "<h2 style=\"color:#00ff45\">:::Gradient Projection Method:::</h2>"
   ]
  },
  {
   "cell_type": "markdown",
   "metadata": {},
   "source": [
    "Here is the form of the objective function:\n",
    "<br>\n",
    "$$ ax^2 + by^2 + cz^2 + dxy + exz + fyz + gxyz $$"
   ]
  },
  {
   "cell_type": "code",
   "execution_count": 1,
   "metadata": {},
   "outputs": [],
   "source": [
    "import numpy as np"
   ]
  },
  {
   "cell_type": "code",
   "execution_count": 2,
   "metadata": {},
   "outputs": [],
   "source": [
    "a, b, c, d, e, f, g = 1, 1, 1, 0, 0, 0, -2\n",
    "\n",
    "def grad_f(x, y, z):\n",
    "    return np.array((2*a*x + d*y + e*z + g*y*z,\n",
    "                     2*b*y + d*x + f*z + g*x*z,\n",
    "                     2*c*z + e*x + f*y + g*x*y))"
   ]
  },
  {
   "cell_type": "code",
   "execution_count": 3,
   "metadata": {},
   "outputs": [],
   "source": [
    "def p_c(x):\n",
    "    if (x[0] < -1):\n",
    "        x[0] = -1\n",
    "    if (x[1] < -2):\n",
    "        x[1] = -2\n",
    "    if (x[2] < -3):\n",
    "        x[2] = -3\n",
    "    return x"
   ]
  },
  {
   "cell_type": "code",
   "execution_count": 4,
   "metadata": {},
   "outputs": [],
   "source": [
    "def GP(x_0, step_size, eps = 0.00001):\n",
    "    it = 0\n",
    "    while True:\n",
    "        x_1 = p_c(x_0 - step_size*grad_f(x_0[0], x_0[1], x_0[2]))\n",
    "        if (np.linalg.norm(x_0 - x_1) < eps):\n",
    "            print(\"number of iteration:\", it)\n",
    "            return x_0\n",
    "        x_0 = x_1\n",
    "        it += 1"
   ]
  },
  {
   "cell_type": "markdown",
   "metadata": {},
   "source": [
    "<hr>"
   ]
  },
  {
   "cell_type": "code",
   "execution_count": 10,
   "metadata": {},
   "outputs": [
    {
     "name": "stdout",
     "output_type": "stream",
     "text": [
      "number of iteration: 46\n",
      "[-3.98871492e-05 -4.86344118e-06 -4.86344118e-06]\n"
     ]
    }
   ],
   "source": [
    "x_0 = np.array((-2, -1, -1))\n",
    "step_size = 0.1\n",
    "print(GP(x_0, step_size))"
   ]
  },
  {
   "cell_type": "code",
   "execution_count": 62,
   "metadata": {},
   "outputs": [
    {
     "name": "stdout",
     "output_type": "stream",
     "text": [
      "number of iteration: 13\n",
      "[7.92242311e-06 7.91990923e-06 7.91990923e-06]\n"
     ]
    }
   ],
   "source": [
    "x_0 = np.array((-2, -1, -1))\n",
    "step_size = 0.36\n",
    "print(GP(x_0, step_size))"
   ]
  },
  {
   "cell_type": "code",
   "execution_count": null,
   "metadata": {},
   "outputs": [],
   "source": [
    "x_0 = np.array((-2, -1, -1))\n",
    "step_size = 0.5\n",
    "print(GP(x_0, step_size))\n",
    "# won't converge and it will loop forever"
   ]
  },
  {
   "cell_type": "markdown",
   "metadata": {},
   "source": [
    "<h4>\n",
    "As it seems, the best stepsize for each problem could be a different value and it even could result in the convergence or divergence; So the point is that we have to be cautious in choosing the value of stepsize to make it such that it reaches the answer in less iterations.  \n",
    "</h4>"
   ]
  }
 ],
 "metadata": {
  "kernelspec": {
   "display_name": "Python 3",
   "language": "python",
   "name": "python3"
  },
  "language_info": {
   "codemirror_mode": {
    "name": "ipython",
    "version": 3
   },
   "file_extension": ".py",
   "mimetype": "text/x-python",
   "name": "python",
   "nbconvert_exporter": "python",
   "pygments_lexer": "ipython3",
   "version": "3.12.0"
  }
 },
 "nbformat": 4,
 "nbformat_minor": 2
}
