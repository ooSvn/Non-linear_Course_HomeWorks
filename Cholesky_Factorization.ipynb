{
 "cells": [
  {
   "cell_type": "markdown",
   "metadata": {},
   "source": [
    "<h5>Ali Morajjabi - 610300104</h5>\n",
    "\n",
    "<hr>\n",
    "\n",
    "<h3 style=\"color:#07ff00\">Cholsky Factorization</h3>"
   ]
  },
  {
   "cell_type": "code",
   "execution_count": 1,
   "metadata": {},
   "outputs": [],
   "source": [
    "import numpy as np"
   ]
  },
  {
   "cell_type": "code",
   "execution_count": 10,
   "metadata": {},
   "outputs": [],
   "source": [
    "def choleskyFactorization(A:np.array):\n",
    "    \n",
    "    L = np.zeros((A.shape[0], A.shape[1]))\n",
    "    for i in range(L.shape[1]):\n",
    "        L[i][0] = A[i][0]/np.sqrt(A[0][0])\n",
    "    \n",
    "    if (A.shape[0] == 1):\n",
    "        return L\n",
    "    \n",
    "    new_A = np.copy(A[1:, 1:])\n",
    "    d = L[1:, 0]\n",
    "    new_A -= np.outer(d, d).astype(float)\n",
    "    L[1:, 1:] = choleskyFactorization(new_A)\n",
    "\n",
    "    return L"
   ]
  },
  {
   "cell_type": "code",
   "execution_count": 11,
   "metadata": {},
   "outputs": [],
   "source": [
    "def MSE(x, y):\n",
    "\n",
    "    _mse = 0\n",
    "    for i in range(x.shape[0]):\n",
    "        for j in range(x.shape[1]):\n",
    "            _mse += (x[i][j] - y[i][j])**2\n",
    "\n",
    "    n = x.shape[0]*x.shape[1]\n",
    "    return _mse / n"
   ]
  },
  {
   "cell_type": "code",
   "execution_count": 12,
   "metadata": {},
   "outputs": [],
   "source": [
    "A = np.array([[1, 2, 4, 7],\n",
    "             [2, 13, 23, 38],\n",
    "             [4, 23, 77, 122],\n",
    "             [7, 38, 122, 294]])\n",
    "\n",
    "A_1 = np.array([[1, 1, 1],\n",
    "                [1, 1.001, 1.001],\n",
    "                [1, 1.001, 2]])\n",
    "\n",
    "x = np.linalg.cholesky(A_1)\n",
    "y = choleskyFactorization(A_1)"
   ]
  },
  {
   "cell_type": "code",
   "execution_count": 13,
   "metadata": {},
   "outputs": [
    {
     "name": "stdout",
     "output_type": "stream",
     "text": [
      "5.349805401075655e-36\n",
      "[[1.         0.         0.        ]\n",
      " [1.         0.03162278 0.        ]\n",
      " [1.         0.03162278 0.99949987]]\n",
      "[[1.         0.         0.        ]\n",
      " [1.         0.03162278 0.        ]\n",
      " [1.         0.03162278 0.99949987]]\n"
     ]
    }
   ],
   "source": [
    "print(MSE(x, y))\n",
    "\n",
    "print(x)\n",
    "print(y)"
   ]
  },
  {
   "cell_type": "code",
   "execution_count": 14,
   "metadata": {},
   "outputs": [],
   "source": [
    "# L.T @ x = inv(L) @ b\n",
    "def solveEquation(A, b):\n",
    "    L = choleskyFactorization(A)\n",
    "    right_side = np.linalg.inv(L) @ b\n",
    "    z = (right_side[2]) / L.T[2][2]\n",
    "    y = (right_side[1] - z*L.T[1][2]) / L.T[1][1]\n",
    "    x = (right_side[0] - y*L.T[0][1] - z*L.T[0][2]) / L.T[0][0]\n",
    "    return np.array((x, y, z))"
   ]
  },
  {
   "cell_type": "code",
   "execution_count": 16,
   "metadata": {},
   "outputs": [
    {
     "name": "stdout",
     "output_type": "stream",
     "text": [
      "[3.    3.003 4.001]\n"
     ]
    }
   ],
   "source": [
    "A = np.array([[1, 1, 1],\n",
    "            [1, 1.001, 1.001],\n",
    "            [1, 1.001, 2]])\n",
    "\n",
    "b = np.array([3, 3.003, 4.001])\n",
    "\n",
    "answer = solveEquation(A, b)\n",
    "\n",
    "print(A @ answer)\n"
   ]
  }
 ],
 "metadata": {
  "kernelspec": {
   "display_name": "Python 3",
   "language": "python",
   "name": "python3"
  },
  "language_info": {
   "codemirror_mode": {
    "name": "ipython",
    "version": 3
   },
   "file_extension": ".py",
   "mimetype": "text/x-python",
   "name": "python",
   "nbconvert_exporter": "python",
   "pygments_lexer": "ipython3",
   "version": "3.12.0"
  }
 },
 "nbformat": 4,
 "nbformat_minor": 2
}
