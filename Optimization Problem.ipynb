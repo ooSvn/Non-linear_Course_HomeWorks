{
 "cells": [
  {
   "cell_type": "markdown",
   "metadata": {},
   "source": [
    "<h1 style=\"color:#6bfff3\">Life Improvement</h1>\n",
    "\n",
    "### Ali Morajjabi\n",
    "### 610300104"
   ]
  },
  {
   "cell_type": "markdown",
   "metadata": {},
   "source": [
    "____\n",
    "____"
   ]
  },
  {
   "cell_type": "code",
   "execution_count": 1,
   "metadata": {},
   "outputs": [],
   "source": [
    "import cvxpy as cp\n",
    "import numpy as np"
   ]
  },
  {
   "cell_type": "markdown",
   "metadata": {},
   "source": [
    "<h2 style=\"color:#99ff00\">Q1 : Appropriate Diet</h2>\n",
    "\n",
    "### Problem Formulation\n",
    "We want to minimize the cost of food while meeting certain nutritional requirements.\n",
    "\n",
    "### Mathematical Formulation\n",
    "\\[\n",
    "\\begin{align*}\n",
    "\\text{Minimize} & \\quad \\sum_{i=1}^{N} C_i \\cdot X_i \\\\\n",
    "\\text{subject to} & \\quad \\sum_{i=1}^{N} P_{ij} \\cdot X_i \\geq B_j \\quad \\forall j \\in \\{1, 2, \\ldots, M\\} \\\\\n",
    "& \\quad X_i \\geq 0 \\quad \\forall i \\in \\{1, 2, \\ldots, N\\}\n",
    "\\end{align*}\n",
    "\\]\n"
   ]
  },
  {
   "cell_type": "code",
   "execution_count": 2,
   "metadata": {},
   "outputs": [],
   "source": [
    "N = 10\n",
    "M = 5\n",
    "\n",
    "# Minimum daily need of each nutrition\n",
    "B = np.array([100.8, 52.1, 370.8, 200.5, 140 ])\n",
    "\n",
    "# Cost of each food\n",
    "C = np.array([45.79, 30.86, 50.2 , 99.26, 32.17, 42.9 , 66.89, 35.06, 13.78, 53.78])\n",
    "\n",
    "# Each line is a food containing some amount of each nutrition\n",
    "P = np.array([\n",
    "    [ 70,  5.12,  8.02,  1.89, 12.25],\n",
    "    [0,  100,  7.62,  2.34, 17.48],\n",
    "    [ 6.53, 0.1,  7.89,  200,  0.56],\n",
    "    [0, 0.1,  0.896,  400, 0],\n",
    "    [18.23,  1.  , 10.29,  9.21,  0.92],\n",
    "    [ 2.45,  2.93,  2.24,  4.55,  8.87],\n",
    "    [ 9.41, 13.1 ,  7.24,  0.24,  7.35],\n",
    "    [19.21,  1.32, 12.35, 11.22,  5.14],\n",
    "    [ 1.27, 11.66,  256,  1.14,  2.42],\n",
    "    [11.37, 17.86,  33, 0,  100]\n",
    "    ])"
   ]
  },
  {
   "cell_type": "code",
   "execution_count": 3,
   "metadata": {},
   "outputs": [
    {
     "name": "stdout",
     "output_type": "stream",
     "text": [
      "Optimal amounts of each food: [1.12976430e+00 1.03655416e-01 9.83634852e-01 1.77882859e-09\n",
      " 0.00000000e+00 0.00000000e+00 0.00000000e+00 0.00000000e+00\n",
      " 1.22387782e+00 1.20835871e+00]\n",
      "Amount of Recieved Nutrition: [100.80000013  52.10000023 370.80000121 200.50000009 140.00000013]\n",
      "Minimum cost: 186.15975101430394\n"
     ]
    }
   ],
   "source": [
    "X = cp.Variable(N, nonneg=True)\n",
    "objective = cp.Minimize(C @ X)\n",
    "\n",
    "constraints = [P.T @ X >= B]\n",
    "\n",
    "q1 = cp.Problem(objective, constraints)\n",
    "q1.solve()\n",
    "\n",
    "print(f\"Optimal amounts of each food: {X.value}\")\n",
    "print(f\"Amount of Recieved Nutrition: {P.T @ X.value}\")\n",
    "print(f\"Minimum cost: {q1.value}\")\n"
   ]
  },
  {
   "cell_type": "markdown",
   "metadata": {},
   "source": [
    "___"
   ]
  },
  {
   "cell_type": "markdown",
   "metadata": {},
   "source": [
    "<h2 style=\"color:#99ff00\">Q2 : Project Management</h2>\n",
    "\n",
    "\n",
    "### Problem Formulation\n",
    "We want to minimize the amount of resources allocated to particular tasks with respect to the deadline and limited resources considering minimum benefit.\n",
    "\n",
    "### Mathematical Formulation\n",
    "\\[\n",
    "\\begin{align*}\n",
    "\\text{Minimize} & \\quad \\sum_{i=1}^{N} C_i \\cdot X_i \\\\\n",
    "\\text{subject to} & \\quad \\sum_{i=1}^{N} T_{i} \\cdot X_i \\leq t \\\\\n",
    "& \\quad \\sum_{i=1}^{N} X_i \\leq R \\\\\n",
    "& \\quad \\sum_{i=1}^{N} p_i \\cdot X_i \\leq P \\\\\n",
    "& \\quad X_i \\geq 0 \\quad \\forall i \\in \\{1, \\ldots, N\\}\n",
    "\\end{align*}\n",
    "\\]"
   ]
  },
  {
   "cell_type": "code",
   "execution_count": 4,
   "metadata": {},
   "outputs": [],
   "source": [
    "N = 5\n",
    "P = 2500\n",
    "t = 800\n",
    "R = 200\n",
    "C = np.array([2,  2.09,  4.45, 5.55,  1.52])\n",
    "T = np.array([3.57,  2.448, 2.69, 3.03,  9.55])\n",
    "p = np.array([100, 8, 35, 90, 20])"
   ]
  },
  {
   "cell_type": "code",
   "execution_count": 5,
   "metadata": {},
   "outputs": [
    {
     "name": "stdout",
     "output_type": "stream",
     "text": [
      "Optimal X: [2.50000000e+01 1.87610517e-09 1.09248718e-09 1.80832682e-09\n",
      " 1.08278788e-09]\n",
      "Minimum Cost: 50.000000019922794\n",
      "Minimum Spent Time: 89.25000002238409\n"
     ]
    }
   ],
   "source": [
    "X = cp.Variable(N, nonneg=True)\n",
    "objective = cp.Minimize(C @ X)\n",
    "\n",
    "constraints = [T.T @ X <= t,\n",
    "            cp.sum(X) <= R,\n",
    "            X.T @ p >= P]\n",
    "\n",
    "q2 = cp.Problem(objective, constraints)\n",
    "q2.solve()\n",
    "\n",
    "print(f\"Optimal X: {X.value}\")\n",
    "print(f\"Minimum Cost: {q2.value}\")\n",
    "print(f\"Minimum Spent Time: {T.T @ X.value}\")"
   ]
  },
  {
   "cell_type": "markdown",
   "metadata": {},
   "source": [
    "____"
   ]
  },
  {
   "cell_type": "markdown",
   "metadata": {},
   "source": [
    "<h2 style=\"color:#99ff00\">Q3 : Portfolio Selection</h2>\n",
    "\n",
    "### Problem Formulation\n",
    "We want to maximize the amount of profit attained by slicing the investment.\n",
    "\n",
    "### Mathematical Formulation\n",
    "\\[\n",
    "\\begin{align*}\n",
    "\\text{Maximize} & \\quad \\sum_{i=1}^{N} \\mu_i \\cdot X_i - \\lambda \\cdot \\sum_{j=1}^{N} X_i \\cdot X_j \\cdot \\sigma_{ij} \\\\\n",
    "\\text{subject to} & \\quad \\sum_{i=1}^{N} X_i = 1 \\\\\n",
    "& \\quad X_i \\geq 0 \\quad \\forall i \\in \\{1, \\ldots, N\\}\n",
    "\\end{align*}\n",
    "\\]"
   ]
  },
  {
   "cell_type": "code",
   "execution_count": 6,
   "metadata": {},
   "outputs": [],
   "source": [
    "mu = np.array([19.12, 13.31, 18.4 , 19.56, 18.7 , 14.04, 15.21, 17.74, 19.88, 19.39])\n",
    "lmbd = 1.5\n",
    "Sigma = np.array([\n",
    "    [3.44, 2.76, 2.28, 2.35, 2.83, 1.98, 2.22, 2.65, 3.37, 2.49],\n",
    "    [2.76, 3.68, 2.74, 2.26, 3.06, 1.73, 2.38, 2.16, 2.79, 2.13],\n",
    "    [2.28, 2.74, 2.62, 1.66, 2.72, 1.43, 2.28, 2.04, 2.35, 1.8 ],\n",
    "    [2.35, 2.26, 1.66, 2.88, 1.88, 2.14, 2.23, 2.12, 2.59, 2.71],\n",
    "    [2.83, 3.06, 2.72, 1.88, 3.51, 1.69, 2.34, 2.48, 3.06, 2.13],\n",
    "    [1.98, 1.73, 1.43, 2.14, 1.69, 2.82, 1.64, 2.57, 2.81, 2.26],\n",
    "    [2.22, 2.38, 2.28, 2.23, 2.34, 1.64, 2.82, 1.92, 2.33, 2.57],\n",
    "    [2.65, 2.16, 2.04, 2.12, 2.48, 2.57, 1.92, 3.06, 3.19, 2.24],\n",
    "    [3.37, 2.79, 2.35, 2.59, 3.06, 2.81, 2.33, 3.19, 3.9 , 2.8 ],\n",
    "    [2.49, 2.13, 1.8 , 2.71, 2.13, 2.26, 2.57, 2.24, 2.8 , 3.26]\n",
    "    ])"
   ]
  },
  {
   "cell_type": "code",
   "execution_count": 8,
   "metadata": {},
   "outputs": [
    {
     "name": "stdout",
     "output_type": "stream",
     "text": [
      "Optimal X:   [0.00000000e+00 4.20732602e-23 3.73714195e-01 6.07269083e-01\n",
      " 0.00000000e+00 1.24741989e-22 1.48242870e-22 0.00000000e+00\n",
      " 1.90167221e-02 0.00000000e+00]\n",
      "Total Return:   19.132576884528145\n",
      "Maximized Value:   15.718457693727911\n",
      "Variance(Total Risk):   2.2760794605334893\n"
     ]
    }
   ],
   "source": [
    "X = cp.Variable(10, nonneg=True)\n",
    "objective = cp.Maximize(mu.T @ X - lmbd * cp.quad_form(X, Sigma))\n",
    "constraints = [cp.sum(X) == 1]\n",
    "q3 = cp.Problem(objective, constraints)\n",
    "q3.solve()\n",
    "\n",
    "print(f\"Optimal X:   {X.value}\")\n",
    "print(f\"Total Return:   {mu.T @ X.value}\")\n",
    "print(f\"Maximized Value:   {q3.value}\")\n",
    "print(f\"Variance(Total Risk):   {X.value.T @ Sigma @ X.value}\")"
   ]
  }
 ],
 "metadata": {
  "kernelspec": {
   "display_name": "Python 3",
   "language": "python",
   "name": "python3"
  },
  "language_info": {
   "codemirror_mode": {
    "name": "ipython",
    "version": 3
   },
   "file_extension": ".py",
   "mimetype": "text/x-python",
   "name": "python",
   "nbconvert_exporter": "python",
   "pygments_lexer": "ipython3",
   "version": "3.12.0"
  }
 },
 "nbformat": 4,
 "nbformat_minor": 2
}
